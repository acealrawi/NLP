{
 "cells": [
  {
   "cell_type": "code",
   "execution_count": 31,
   "metadata": {},
   "outputs": [],
   "source": [
    "import os\n",
    "import re\n",
    "from collections import defaultdict, Counter"
   ]
  },
  {
   "cell_type": "code",
   "execution_count": 32,
   "metadata": {},
   "outputs": [],
   "source": [
    "def find_vowel_duplications(text):\n",
    "    pattern = r'\\b(\\w*([aeiouAEIOU])\\2\\w*)\\b'\n",
    "    return [match[0] for match in re.findall(pattern, text)]"
   ]
  },
  {
   "cell_type": "code",
   "execution_count": 33,
   "metadata": {},
   "outputs": [],
   "source": [
    "def counter(vowel_frequencies):\n",
    "    vowels = 'aeiou'\n",
    "    for vowel in vowels:\n",
    "        print(f\"Top 3 words with duplication of vowel '{vowel}':\")\n",
    "        sorted_frequencies = sorted(vowel_frequencies.items(), key=lambda x: x[1], reverse=True)\n",
    "        count = 0\n",
    "        for word, freq in sorted_frequencies:\n",
    "            if vowel in word:\n",
    "                print(f\"{word}: {freq}\")\n",
    "                count += 1\n",
    "            if count >= 3:\n",
    "                break\n",
    "        print()"
   ]
  },
  {
   "cell_type": "code",
   "execution_count": 34,
   "metadata": {},
   "outputs": [],
   "source": [
    "def get_filenames(path = \"blogs\"):\n",
    "    return os.listdir(path)"
   ]
  },
  {
   "cell_type": "code",
   "execution_count": 35,
   "metadata": {},
   "outputs": [],
   "source": [
    "def write_result(filename, tokens_per_file):\n",
    "    with open(f\"{filename}.txt\", 'w', encoding='utf-8') as output:\n",
    "        for file_name, words in tokens_per_file.items():\n",
    "            output.write(f\"{file_name}:\\n\")\n",
    "            output.write(f\"{words}, \")\n",
    "            output.write(\"\\n\\n\")"
   ]
  },
  {
   "cell_type": "code",
   "execution_count": 36,
   "metadata": {},
   "outputs": [],
   "source": [
    "\n",
    "def normalize(token):\n",
    "    for vowel in 'aeiouAEIOU':\n",
    "        token = re.sub(f'{vowel}{{2,}}', f'{vowel}{vowel}', token)\n",
    "    return token"
   ]
  },
  {
   "cell_type": "code",
   "execution_count": 37,
   "metadata": {},
   "outputs": [
    {
     "name": "stdout",
     "output_type": "stream",
     "text": [
      "Top 3 words with duplication of vowel 'a':\n",
      "afternoon: 181\n",
      "asleep: 146\n",
      "agree: 106\n",
      "\n",
      "Top 3 words with duplication of vowel 'e':\n",
      "been: 2761\n",
      "see: 2615\n",
      "feel: 1505\n",
      "\n",
      "Top 3 words with duplication of vowel 'i':\n",
      "looking: 598\n",
      "feeling: 497\n",
      "seeing: 208\n",
      "\n",
      "Top 3 words with duplication of vowel 'o':\n",
      "good: 2875\n",
      "too: 1980\n",
      "school: 1379\n",
      "\n",
      "Top 3 words with duplication of vowel 'u':\n",
      "queen: 47\n",
      "volunteers: 33\n",
      "understood: 27\n",
      "\n",
      "********************************************************************************\n",
      "Male\n",
      "Top 3 words with duplication of vowel 'a':\n",
      "afternoon: 68\n",
      "asleep: 67\n",
      "football: 51\n",
      "\n",
      "Top 3 words with duplication of vowel 'e':\n",
      "been: 1389\n",
      "see: 1286\n",
      "need: 651\n",
      "\n",
      "Top 3 words with duplication of vowel 'i':\n",
      "looking: 305\n",
      "feeling: 200\n",
      "seeing: 115\n",
      "\n",
      "Top 3 words with duplication of vowel 'o':\n",
      "good: 1514\n",
      "too: 862\n",
      "school: 669\n",
      "\n",
      "Top 3 words with duplication of vowel 'u':\n",
      "volunteers: 21\n",
      "queen: 19\n",
      "understood: 15\n",
      "\n",
      "********************************************************************************\n",
      "Top 3 words with duplication of vowel 'a':\n",
      "afternoon: 113\n",
      "asleep: 79\n",
      "agree: 61\n",
      "\n",
      "Top 3 words with duplication of vowel 'e':\n",
      "been: 1372\n",
      "see: 1329\n",
      "feel: 935\n",
      "\n",
      "Top 3 words with duplication of vowel 'i':\n",
      "feeling: 297\n",
      "looking: 293\n",
      "meeting: 121\n",
      "\n",
      "Top 3 words with duplication of vowel 'o':\n",
      "good: 1361\n",
      "too: 1118\n",
      "school: 710\n",
      "\n",
      "Top 3 words with duplication of vowel 'u':\n",
      "queen: 28\n",
      "volunteer: 17\n",
      "vacuum: 13\n",
      "\n",
      "Female\n"
     ]
    }
   ],
   "source": [
    "filenames = os.listdir(\"blogs\")\n",
    "male_files = [f for f in filenames if f.startswith('M')]\n",
    "female_files = [f for f in filenames if f.startswith('F')]\n",
    "vowel_frequencies = defaultdict(int)\n",
    "male_vowel_frequencies = defaultdict(int)\n",
    "female_vowel_frequencies = defaultdict(int)\n",
    "\n",
    "tokens_per_file = {}\n",
    "male_tokens_per_file = {}\n",
    "female_tokens_per_file = {}\n",
    "\n",
    "def process_files(files, tokens_per_file, vowel_frequencies, should_normalize=False):\n",
    "    results = {vowel: Counter() for vowel in 'aeiou'}\n",
    "    for file_name in files:\n",
    "        with open(os.path.join(\"blogs\", file_name), 'r', encoding='utf-8') as file:\n",
    "            text = file.read()\n",
    "            tokens = find_vowel_duplications(text)\n",
    "            if tokens:\n",
    "                tokens_per_file[file_name] = tokens\n",
    "                for token in tokens:\n",
    "                    if should_normalize:\n",
    "                        normalize(token)\n",
    "                    token = token.lower()  # Case folding\n",
    "                    vowel_frequencies[token] += 1\n",
    "    return results\n",
    "\n",
    "all_results = process_files(filenames, tokens_per_file, vowel_frequencies)\n",
    "male_results = process_files(male_files, male_tokens_per_file, male_vowel_frequencies)\n",
    "female_results = process_files(female_files, female_tokens_per_file, female_vowel_frequencies)\n",
    "\n",
    "counter(vowel_frequencies)\n",
    "write_result(\"results\", tokens_per_file)\n",
    "print(\"********************************************************************************\")\n",
    "print(\"Male\")\n",
    "counter(male_vowel_frequencies)\n",
    "write_result(\"results_male\", tokens_per_file)\n",
    "print(\"********************************************************************************\")\n",
    "counter(female_vowel_frequencies)\n",
    "write_result(\"results_female\", tokens_per_file)\n",
    "print(\"Female\")"
   ]
  },
  {
   "cell_type": "code",
   "execution_count": null,
   "metadata": {},
   "outputs": [],
   "source": []
  }
 ],
 "metadata": {
  "kernelspec": {
   "display_name": "Python 3",
   "language": "python",
   "name": "python3"
  },
  "language_info": {
   "codemirror_mode": {
    "name": "ipython",
    "version": 3
   },
   "file_extension": ".py",
   "mimetype": "text/x-python",
   "name": "python",
   "nbconvert_exporter": "python",
   "pygments_lexer": "ipython3",
   "version": "3.10.13"
  },
  "orig_nbformat": 4
 },
 "nbformat": 4,
 "nbformat_minor": 2
}
